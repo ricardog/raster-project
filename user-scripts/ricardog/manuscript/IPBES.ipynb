{
 "cells": [
  {
   "cell_type": "code",
   "execution_count": null,
   "metadata": {},
   "outputs": [],
   "source": [
    "from bokeh.io import output_notebook, show\n",
    "from bokeh.plotting import figure\n",
    "from bokeh.models import Range1d, ColumnDataSource, HoverTool, CrosshairTool\n",
    "from bokeh.layouts import gridplot\n",
    "from bokeh.palettes import Category20\n",
    "\n",
    "import pandas as pd\n",
    "import numpy as np\n",
    "\n",
    "import requests\n",
    "import io\n",
    "\n",
    "output_notebook()\n"
   ]
  },
  {
   "cell_type": "code",
   "execution_count": null,
   "metadata": {},
   "outputs": [],
   "source": [
    "import rasterio\n",
    "from bokeh.models.mappers import LinearColorMapper\n",
    "print('start')\n",
    "ds = rasterio.open('/out/luh2/ssp1_rcp2.6_image-BIIAb-2100.tif')\n",
    "data = ds.read(1, masked=True)[::-1]\n",
    "print(data.shape)\n",
    "p = figure(title='Test of image()', plot_width=ds.width>>1, plot_height=ds.height>>1, x_range=(0, 10), y_range=(0, 10))\n",
    "cm = LinearColorMapper(palette='Viridis256', nan_color='black')\n",
    "p.image(image=[data], x=0, y=0, dw=10, dh=10, color_mapper=cm)\n",
    "show(p)\n",
    "print('done')"
   ]
  },
  {
   "cell_type": "code",
   "execution_count": null,
   "metadata": {
    "scrolled": false
   },
   "outputs": [],
   "source": [
    "scenarios = ('historical', 'ssp1_rcp2.6_image', 'ssp3_rcp7.0_aim', 'ssp4_rcp3.4_gcam', 'ssp4_rcp6.0_gcam', 'ssp5_rcp8.5_remind-magpie')\n",
    "plots = []\n",
    "for scenario in scenarios:\n",
    "    print(scenario)\n",
    "    row = []\n",
    "    for indicator in ('BIIAb', 'BIISR'):\n",
    "        title = 'historical'\n",
    "        base_url = \"http://ipbes.s3.amazonaws.com/summary/%s-%s-%s- 900-2014.csv\"\n",
    "        if scenario != 'historical':\n",
    "            ssp, rcp, model = scenario.upper().split('_')\n",
    "            title = '%s -- %s / %s' % (indicator, ssp, rcp)\n",
    "            base_url = \"http://ipbes.s3.amazonaws.com/summary/%s-%s-%s-2015-2100.csv\"\n",
    "        p = figure(title=title)\n",
    "        p.y_range = Range1d(0.45, 1)\n",
    "        print(base_url % (scenario, indicator, 'subreg'))\n",
    "        s = requests.get(base_url % (scenario, indicator, 'subreg')).content\n",
    "        df = pd.read_csv(io.StringIO(s.decode('utf-8')))\n",
    "        #df = pd.read_csv('ipbes-upload/%s-%s-subreg-2015-2100.csv' % (scenario, indicator))\n",
    "        subset = df.loc[:, '2015':'2100'].T\n",
    "        subset.columns = df['Name']\n",
    "        subset.reset_index(inplace=True)\n",
    "        subset = subset.rename(columns={'index': 'Year'})\n",
    "        mypalette=Category20[len(subset.columns)]\n",
    "\n",
    "        for idx, col in enumerate(subset.columns):\n",
    "            if col in ('Year', 'Excluded'):\n",
    "                continue\n",
    "            src = ColumnDataSource(data={\n",
    "                'year': subset.Year,\n",
    "                'data': subset[col],\n",
    "                'name': [col for n in range(len(subset))]\n",
    "            })\n",
    "            p.line('year', 'data', source=src, line_width=4, color=mypalette[idx])\n",
    "            \n",
    "        base_url = \"http://ipbes.s3.amazonaws.com/summary/%s-%s-%s-2015-2100.csv\"\n",
    "        s = requests.get(base_url % (scenario, indicator, 'global')).content\n",
    "        df = pd.read_csv(io.StringIO(s.decode('utf-8')))\n",
    "        glob = df.loc[:, '2015':'2100'].T.reset_index()\n",
    "        src = ColumnDataSource(data={\n",
    "            'year': glob['index'],\n",
    "            'data': glob[0],\n",
    "            'name': ['Global' for n in range(len(glob))]\n",
    "        })\n",
    "        p.line('year', 'data', source=src, line_width=8, color='black')\n",
    "        p.add_tools(HoverTool(tooltips=[('Year', '@year'), (indicator, '@data'), ('Region', '@name')]))\n",
    "        row.append(p)\n",
    "    plots.append(row)\n",
    "grid = gridplot(plots, sizing_mode='scale_width')\n",
    "show(grid)"
   ]
  }
 ],
 "metadata": {
  "kernelspec": {
   "display_name": "Python 3",
   "language": "python",
   "name": "python3"
  },
  "language_info": {
   "codemirror_mode": {
    "name": "ipython",
    "version": 3
   },
   "file_extension": ".py",
   "mimetype": "text/x-python",
   "name": "python",
   "nbconvert_exporter": "python",
   "pygments_lexer": "ipython3",
   "version": "3.6.3"
  }
 },
 "nbformat": 4,
 "nbformat_minor": 2
}
